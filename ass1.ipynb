{
 "cells": [
  {
   "cell_type": "code",
   "execution_count": 115,
   "metadata": {
    "ExecuteTime": {
     "end_time": "2020-02-27T17:36:34.010677Z",
     "start_time": "2020-02-27T17:36:34.004525Z"
    }
   },
   "outputs": [],
   "source": [
    "import findspark\n",
    "findspark.init()"
   ]
  },
  {
   "cell_type": "code",
   "execution_count": 116,
   "metadata": {
    "ExecuteTime": {
     "end_time": "2020-02-27T17:36:34.025177Z",
     "start_time": "2020-02-27T17:36:34.015742Z"
    }
   },
   "outputs": [],
   "source": [
    "from pyspark.sql import SparkSession\n",
    "from pyspark.ml.feature import RegexTokenizer, NGram\n",
    "from pyspark.sql.functions import split, explode"
   ]
  },
  {
   "cell_type": "code",
   "execution_count": 117,
   "metadata": {
    "ExecuteTime": {
     "end_time": "2020-02-27T17:36:34.452313Z",
     "start_time": "2020-02-27T17:36:34.046887Z"
    }
   },
   "outputs": [],
   "source": [
    "spark = SparkSession \\\n",
    "    .builder \\\n",
    "    .appName(\"assignment1 pyspark\") \\\n",
    "    .config(\"spark.some.config.option\", \"some-value\") \\\n",
    "    .getOrCreate()"
   ]
  },
  {
   "cell_type": "code",
   "execution_count": 118,
   "metadata": {
    "ExecuteTime": {
     "end_time": "2020-02-27T17:36:34.495509Z",
     "start_time": "2020-02-27T17:36:34.455842Z"
    },
    "scrolled": true
   },
   "outputs": [],
   "source": [
    "df=spark.read.text('kjvdat.txt')"
   ]
  },
  {
   "cell_type": "code",
   "execution_count": 119,
   "metadata": {
    "ExecuteTime": {
     "end_time": "2020-02-27T17:36:34.793133Z",
     "start_time": "2020-02-27T17:36:34.498239Z"
    }
   },
   "outputs": [
    {
     "name": "stdout",
     "output_type": "stream",
     "text": [
      "+--------------------+\n",
      "|               value|\n",
      "+--------------------+\n",
      "|Gen|1|1| In the b...|\n",
      "|Gen|1|2| And the ...|\n",
      "|Gen|1|3| And God ...|\n",
      "|Gen|1|4| And God ...|\n",
      "|Gen|1|5| And God ...|\n",
      "|Gen|1|6| And God ...|\n",
      "|Gen|1|7| And God ...|\n",
      "|Gen|1|8| And God ...|\n",
      "|Gen|1|9| And God ...|\n",
      "|Gen|1|10| And God...|\n",
      "|Gen|1|11| And God...|\n",
      "|Gen|1|12| And the...|\n",
      "|Gen|1|13| And the...|\n",
      "|Gen|1|14| And God...|\n",
      "|Gen|1|15| And let...|\n",
      "|Gen|1|16| And God...|\n",
      "|Gen|1|17| And God...|\n",
      "|Gen|1|18| And to ...|\n",
      "|Gen|1|19| And the...|\n",
      "|Gen|1|20| And God...|\n",
      "+--------------------+\n",
      "only showing top 20 rows\n",
      "\n"
     ]
    }
   ],
   "source": [
    "df.show(20)"
   ]
  },
  {
   "cell_type": "code",
   "execution_count": 120,
   "metadata": {
    "ExecuteTime": {
     "end_time": "2020-02-27T17:36:34.999700Z",
     "start_time": "2020-02-27T17:36:34.797279Z"
    }
   },
   "outputs": [],
   "source": [
    "df1=df.withColumn('sentence',split(df['value'],\"\\|\")[3])"
   ]
  },
  {
   "cell_type": "code",
   "execution_count": 121,
   "metadata": {
    "ExecuteTime": {
     "end_time": "2020-02-27T17:36:35.125290Z",
     "start_time": "2020-02-27T17:36:35.002581Z"
    }
   },
   "outputs": [
    {
     "name": "stdout",
     "output_type": "stream",
     "text": [
      "+--------------------+--------------------+\n",
      "|               value|            sentence|\n",
      "+--------------------+--------------------+\n",
      "|Gen|1|1| In the b...| In the beginning...|\n",
      "|Gen|1|2| And the ...| And the earth wa...|\n",
      "|Gen|1|3| And God ...| And God said, Le...|\n",
      "|Gen|1|4| And God ...| And God saw the ...|\n",
      "|Gen|1|5| And God ...| And God called t...|\n",
      "|Gen|1|6| And God ...| And God said, Le...|\n",
      "|Gen|1|7| And God ...| And God made the...|\n",
      "|Gen|1|8| And God ...| And God called t...|\n",
      "|Gen|1|9| And God ...| And God said, Le...|\n",
      "|Gen|1|10| And God...| And God called t...|\n",
      "+--------------------+--------------------+\n",
      "only showing top 10 rows\n",
      "\n"
     ]
    }
   ],
   "source": [
    "df1.show(10)"
   ]
  },
  {
   "cell_type": "code",
   "execution_count": 122,
   "metadata": {
    "ExecuteTime": {
     "end_time": "2020-02-27T17:36:35.164808Z",
     "start_time": "2020-02-27T17:36:35.132652Z"
    }
   },
   "outputs": [],
   "source": [
    "tokenizer = RegexTokenizer(inputCol=\"sentence\", outputCol=\"words\",pattern='\\\\W')\n",
    "tokenized = tokenizer.transform(df1)"
   ]
  },
  {
   "cell_type": "code",
   "execution_count": 123,
   "metadata": {
    "ExecuteTime": {
     "end_time": "2020-02-27T17:36:35.358305Z",
     "start_time": "2020-02-27T17:36:35.171217Z"
    }
   },
   "outputs": [
    {
     "name": "stdout",
     "output_type": "stream",
     "text": [
      "+--------------------+--------------------+--------------------+\n",
      "|               value|            sentence|               words|\n",
      "+--------------------+--------------------+--------------------+\n",
      "|Gen|1|1| In the b...| In the beginning...|[in, the, beginni...|\n",
      "|Gen|1|2| And the ...| And the earth wa...|[and, the, earth,...|\n",
      "|Gen|1|3| And God ...| And God said, Le...|[and, god, said, ...|\n",
      "|Gen|1|4| And God ...| And God saw the ...|[and, god, saw, t...|\n",
      "|Gen|1|5| And God ...| And God called t...|[and, god, called...|\n",
      "|Gen|1|6| And God ...| And God said, Le...|[and, god, said, ...|\n",
      "|Gen|1|7| And God ...| And God made the...|[and, god, made, ...|\n",
      "|Gen|1|8| And God ...| And God called t...|[and, god, called...|\n",
      "|Gen|1|9| And God ...| And God said, Le...|[and, god, said, ...|\n",
      "|Gen|1|10| And God...| And God called t...|[and, god, called...|\n",
      "+--------------------+--------------------+--------------------+\n",
      "only showing top 10 rows\n",
      "\n"
     ]
    }
   ],
   "source": [
    "tokenized.show(10)"
   ]
  },
  {
   "cell_type": "code",
   "execution_count": 124,
   "metadata": {
    "ExecuteTime": {
     "end_time": "2020-02-27T17:36:35.384138Z",
     "start_time": "2020-02-27T17:36:35.364441Z"
    }
   },
   "outputs": [],
   "source": [
    "words_list=tokenized.select(explode(tokenized['words']))"
   ]
  },
  {
   "cell_type": "code",
   "execution_count": 125,
   "metadata": {
    "ExecuteTime": {
     "end_time": "2020-02-27T17:36:35.652032Z",
     "start_time": "2020-02-27T17:36:35.388022Z"
    }
   },
   "outputs": [
    {
     "name": "stdout",
     "output_type": "stream",
     "text": [
      "+---------+\n",
      "|      col|\n",
      "+---------+\n",
      "|       in|\n",
      "|      the|\n",
      "|beginning|\n",
      "|      god|\n",
      "|  created|\n",
      "|      the|\n",
      "|   heaven|\n",
      "|      and|\n",
      "|      the|\n",
      "|    earth|\n",
      "+---------+\n",
      "only showing top 10 rows\n",
      "\n"
     ]
    }
   ],
   "source": [
    "words_list.show(10)"
   ]
  },
  {
   "cell_type": "code",
   "execution_count": 126,
   "metadata": {
    "ExecuteTime": {
     "end_time": "2020-02-27T17:36:35.726896Z",
     "start_time": "2020-02-27T17:36:35.658063Z"
    }
   },
   "outputs": [],
   "source": [
    "wf_pairs=words_list.groupby('col').count()"
   ]
  },
  {
   "cell_type": "code",
   "execution_count": 127,
   "metadata": {
    "ExecuteTime": {
     "end_time": "2020-02-27T17:36:37.113274Z",
     "start_time": "2020-02-27T17:36:35.730471Z"
    }
   },
   "outputs": [
    {
     "name": "stdout",
     "output_type": "stream",
     "text": [
      "+---------+-----+\n",
      "|      col|count|\n",
      "+---------+-----+\n",
      "|   waters|  287|\n",
      "|      art|  494|\n",
      "|    those|  465|\n",
      "| ashkenaz|    1|\n",
      "|    serug|    5|\n",
      "|    still|  101|\n",
      "|     some|  232|\n",
      "|     hazo|    1|\n",
      "|  pitcher|   12|\n",
      "|destitute|    8|\n",
      "+---------+-----+\n",
      "only showing top 10 rows\n",
      "\n"
     ]
    }
   ],
   "source": [
    "wf_pairs.show(10)"
   ]
  },
  {
   "cell_type": "code",
   "execution_count": 128,
   "metadata": {
    "ExecuteTime": {
     "end_time": "2020-02-27T17:36:39.133791Z",
     "start_time": "2020-02-27T17:36:37.134832Z"
    }
   },
   "outputs": [
    {
     "name": "stdout",
     "output_type": "stream",
     "text": [
      "+---------+-----+\n",
      "|      col|count|\n",
      "+---------+-----+\n",
      "|        a| 8177|\n",
      "|    aaron|  350|\n",
      "|aaronites|    2|\n",
      "|  abaddon|    1|\n",
      "|  abagtha|    1|\n",
      "|    abana|    1|\n",
      "|   abarim|    4|\n",
      "|    abase|    4|\n",
      "|   abased|    4|\n",
      "|  abasing|    1|\n",
      "+---------+-----+\n",
      "only showing top 10 rows\n",
      "\n"
     ]
    }
   ],
   "source": [
    "wf_pairs.sort(\"col\").show(10)"
   ]
  },
  {
   "cell_type": "code",
   "execution_count": 129,
   "metadata": {
    "ExecuteTime": {
     "end_time": "2020-02-27T17:36:41.158518Z",
     "start_time": "2020-02-27T17:36:39.138933Z"
    }
   },
   "outputs": [
    {
     "name": "stdout",
     "output_type": "stream",
     "text": [
      "+-----+-----+\n",
      "|  col|count|\n",
      "+-----+-----+\n",
      "|  the|63924|\n",
      "|  and|51696|\n",
      "|   of|34617|\n",
      "|   to|13562|\n",
      "| that|12912|\n",
      "|   in|12667|\n",
      "|   he|10420|\n",
      "|shall| 9838|\n",
      "| unto| 8997|\n",
      "|  for| 8971|\n",
      "+-----+-----+\n",
      "only showing top 10 rows\n",
      "\n"
     ]
    }
   ],
   "source": [
    "wf_pairs.sort(\"count\", ascending=False).show(10)"
   ]
  },
  {
   "cell_type": "code",
   "execution_count": 130,
   "metadata": {
    "ExecuteTime": {
     "end_time": "2020-02-27T17:36:41.206235Z",
     "start_time": "2020-02-27T17:36:41.165788Z"
    }
   },
   "outputs": [],
   "source": [
    "ngram = NGram(n=2, inputCol=\"words\", outputCol=\"ngrams\")\n",
    "ngramDataFrame = ngram.transform(tokenized)"
   ]
  },
  {
   "cell_type": "code",
   "execution_count": 131,
   "metadata": {
    "ExecuteTime": {
     "end_time": "2020-02-27T17:36:41.312655Z",
     "start_time": "2020-02-27T17:36:41.211748Z"
    }
   },
   "outputs": [
    {
     "name": "stdout",
     "output_type": "stream",
     "text": [
      "+--------------------+--------------------+--------------------+--------------------+\n",
      "|               value|            sentence|               words|              ngrams|\n",
      "+--------------------+--------------------+--------------------+--------------------+\n",
      "|Gen|1|1| In the b...| In the beginning...|[in, the, beginni...|[in the, the begi...|\n",
      "|Gen|1|2| And the ...| And the earth wa...|[and, the, earth,...|[and the, the ear...|\n",
      "|Gen|1|3| And God ...| And God said, Le...|[and, god, said, ...|[and god, god sai...|\n",
      "|Gen|1|4| And God ...| And God saw the ...|[and, god, saw, t...|[and god, god saw...|\n",
      "|Gen|1|5| And God ...| And God called t...|[and, god, called...|[and god, god cal...|\n",
      "|Gen|1|6| And God ...| And God said, Le...|[and, god, said, ...|[and god, god sai...|\n",
      "|Gen|1|7| And God ...| And God made the...|[and, god, made, ...|[and god, god mad...|\n",
      "|Gen|1|8| And God ...| And God called t...|[and, god, called...|[and god, god cal...|\n",
      "|Gen|1|9| And God ...| And God said, Le...|[and, god, said, ...|[and god, god sai...|\n",
      "|Gen|1|10| And God...| And God called t...|[and, god, called...|[and god, god cal...|\n",
      "+--------------------+--------------------+--------------------+--------------------+\n",
      "only showing top 10 rows\n",
      "\n"
     ]
    }
   ],
   "source": [
    "ngramDataFrame.show(10)"
   ]
  },
  {
   "cell_type": "code",
   "execution_count": 132,
   "metadata": {
    "ExecuteTime": {
     "end_time": "2020-02-27T17:36:41.350372Z",
     "start_time": "2020-02-27T17:36:41.325275Z"
    }
   },
   "outputs": [],
   "source": [
    "ngram_list=ngramDataFrame.select(explode(ngramDataFrame['ngrams']))"
   ]
  },
  {
   "cell_type": "code",
   "execution_count": 133,
   "metadata": {
    "ExecuteTime": {
     "end_time": "2020-02-27T17:36:41.506210Z",
     "start_time": "2020-02-27T17:36:41.359449Z"
    }
   },
   "outputs": [
    {
     "name": "stdout",
     "output_type": "stream",
     "text": [
      "+-------------+\n",
      "|          col|\n",
      "+-------------+\n",
      "|       in the|\n",
      "|the beginning|\n",
      "|beginning god|\n",
      "|  god created|\n",
      "|  created the|\n",
      "|   the heaven|\n",
      "|   heaven and|\n",
      "|      and the|\n",
      "|    the earth|\n",
      "|      and the|\n",
      "+-------------+\n",
      "only showing top 10 rows\n",
      "\n"
     ]
    }
   ],
   "source": [
    "ngram_list.show(10)"
   ]
  },
  {
   "cell_type": "code",
   "execution_count": 134,
   "metadata": {
    "ExecuteTime": {
     "end_time": "2020-02-27T17:36:41.571300Z",
     "start_time": "2020-02-27T17:36:41.510543Z"
    }
   },
   "outputs": [],
   "source": [
    "ngram_list_with_first_word=ngram_list.withColumn('first_word',split(ngram_list['col'],\" \")[0])"
   ]
  },
  {
   "cell_type": "code",
   "execution_count": 135,
   "metadata": {
    "ExecuteTime": {
     "end_time": "2020-02-27T17:36:41.733551Z",
     "start_time": "2020-02-27T17:36:41.579316Z"
    }
   },
   "outputs": [
    {
     "name": "stdout",
     "output_type": "stream",
     "text": [
      "+-------------+----------+\n",
      "|          col|first_word|\n",
      "+-------------+----------+\n",
      "|       in the|        in|\n",
      "|the beginning|       the|\n",
      "|beginning god| beginning|\n",
      "|  god created|       god|\n",
      "|  created the|   created|\n",
      "|   the heaven|       the|\n",
      "|   heaven and|    heaven|\n",
      "|      and the|       and|\n",
      "|    the earth|       the|\n",
      "|      and the|       and|\n",
      "+-------------+----------+\n",
      "only showing top 10 rows\n",
      "\n"
     ]
    }
   ],
   "source": [
    "ngram_list_with_first_word.show(10)"
   ]
  },
  {
   "cell_type": "code",
   "execution_count": 136,
   "metadata": {
    "ExecuteTime": {
     "end_time": "2020-02-27T17:36:41.807231Z",
     "start_time": "2020-02-27T17:36:41.765352Z"
    }
   },
   "outputs": [],
   "source": [
    "ngram_list_count=ngram_list_with_first_word.groupby('first_word','col').count().sort('first_word')\n",
    "ngram_list_count=ngram_list_count.withColumnRenamed(\"col\", \"words_pair\")"
   ]
  },
  {
   "cell_type": "code",
   "execution_count": 137,
   "metadata": {
    "ExecuteTime": {
     "end_time": "2020-02-27T17:36:44.915884Z",
     "start_time": "2020-02-27T17:36:41.814203Z"
    }
   },
   "outputs": [
    {
     "name": "stdout",
     "output_type": "stream",
     "text": [
      "+----------+----------+-----+\n",
      "|first_word|words_pair|count|\n",
      "+----------+----------+-----+\n",
      "|         a|   a tenth|    6|\n",
      "|         a|a cheerful|    2|\n",
      "|         a|  a prayer|    2|\n",
      "|         a|    a gift|   14|\n",
      "|         a|   a tower|    7|\n",
      "|         a| a special|    1|\n",
      "|         a|   a young|   46|\n",
      "|         a|a minstrel|    1|\n",
      "|         a|    a wild|   10|\n",
      "|         a|   a white|    7|\n",
      "+----------+----------+-----+\n",
      "only showing top 10 rows\n",
      "\n"
     ]
    }
   ],
   "source": [
    "ngram_list_count.show(10)"
   ]
  },
  {
   "cell_type": "code",
   "execution_count": 138,
   "metadata": {
    "ExecuteTime": {
     "end_time": "2020-02-27T17:36:44.952021Z",
     "start_time": "2020-02-27T17:36:44.919723Z"
    }
   },
   "outputs": [],
   "source": [
    "first_word_count=ngram_list_with_first_word.groupby('first_word').count().sort('first_word')\n",
    "first_word_count=first_word_count.withColumnRenamed(\"count\", \"first_word_count\")"
   ]
  },
  {
   "cell_type": "code",
   "execution_count": 139,
   "metadata": {
    "ExecuteTime": {
     "end_time": "2020-02-27T17:36:47.649729Z",
     "start_time": "2020-02-27T17:36:44.956759Z"
    }
   },
   "outputs": [
    {
     "name": "stdout",
     "output_type": "stream",
     "text": [
      "+----------+----------------+\n",
      "|first_word|first_word_count|\n",
      "+----------+----------------+\n",
      "|         a|            8177|\n",
      "|     aaron|             338|\n",
      "| aaronites|               2|\n",
      "|   abaddon|               1|\n",
      "|   abagtha|               1|\n",
      "|     abana|               1|\n",
      "|    abarim|               4|\n",
      "|     abase|               3|\n",
      "|    abased|               4|\n",
      "|   abasing|               1|\n",
      "+----------+----------------+\n",
      "only showing top 10 rows\n",
      "\n"
     ]
    }
   ],
   "source": [
    "first_word_count.show(10)"
   ]
  },
  {
   "cell_type": "code",
   "execution_count": 140,
   "metadata": {
    "ExecuteTime": {
     "end_time": "2020-02-27T17:36:47.671246Z",
     "start_time": "2020-02-27T17:36:47.652728Z"
    }
   },
   "outputs": [],
   "source": [
    "final_df=first_word_count.join(ngram_list_count,'first_word','inner')"
   ]
  },
  {
   "cell_type": "code",
   "execution_count": 141,
   "metadata": {
    "ExecuteTime": {
     "end_time": "2020-02-27T17:37:05.490574Z",
     "start_time": "2020-02-27T17:36:47.677092Z"
    }
   },
   "outputs": [
    {
     "name": "stdout",
     "output_type": "stream",
     "text": [
      "+----------+----------------+----------+-----+\n",
      "|first_word|first_word_count|words_pair|count|\n",
      "+----------+----------------+----------+-----+\n",
      "|         a|            8177|    a wild|   10|\n",
      "|         a|            8177|   a white|    7|\n",
      "|         a|            8177| a special|    1|\n",
      "|         a|            8177|a minstrel|    1|\n",
      "|         a|            8177|  a mother|    3|\n",
      "|         a|            8177|   a tenth|    6|\n",
      "|         a|            8177|a cheerful|    2|\n",
      "|         a|            8177|  a prayer|    2|\n",
      "|         a|            8177|   a young|   46|\n",
      "|         a|            8177|   a tower|    7|\n",
      "+----------+----------------+----------+-----+\n",
      "only showing top 10 rows\n",
      "\n"
     ]
    }
   ],
   "source": [
    "final_df.show(10)"
   ]
  },
  {
   "cell_type": "code",
   "execution_count": 142,
   "metadata": {
    "ExecuteTime": {
     "end_time": "2020-02-27T17:37:28.879356Z",
     "start_time": "2020-02-27T17:37:05.501913Z"
    }
   },
   "outputs": [
    {
     "name": "stdout",
     "output_type": "stream",
     "text": [
      "+----------+----------------+-------------+-----+--------------------+\n",
      "|first_word|first_word_count|   words_pair|count|                prob|\n",
      "+----------+----------------+-------------+-----+--------------------+\n",
      "|         a|            8177|    a babbler|    1|1.222942399412987...|\n",
      "|         a|            8177|       a babe|    1|1.222942399412987...|\n",
      "|         a|            8177| a backbiting|    1|1.222942399412987...|\n",
      "|         a|            8177|a backsliding|    1|1.222942399412987...|\n",
      "|         a|            8177|        a bad|    2|2.445884798825975...|\n",
      "|         a|            8177|        a bag|    3|3.668827198238963E-4|\n",
      "|         a|            8177|    a balance|    1|1.222942399412987...|\n",
      "|         a|            8177|       a ball|    1|1.222942399412987...|\n",
      "|         a|            8177|       a band|    8|9.783539195303901E-4|\n",
      "|         a|            8177|       a bank|    3|3.668827198238963E-4|\n",
      "|         a|            8177|     a banner|    2|2.445884798825975...|\n",
      "|         a|            8177|    a banquet|    1|1.222942399412987...|\n",
      "|         a|            8177|    a baptism|    1|1.222942399412987...|\n",
      "|         a|            8177|        a bar|    2|2.445884798825975...|\n",
      "|         a|            8177|  a barbarian|    2|2.445884798825975...|\n",
      "|         a|            8177|     a barber|    1|1.222942399412987...|\n",
      "|         a|            8177|     a barrel|    1|1.222942399412987...|\n",
      "|         a|            8177|       a base|    2|2.445884798825975...|\n",
      "|         a|            8177|     a basket|    8|9.783539195303901E-4|\n",
      "|         a|            8177|      a bason|    1|1.222942399412987...|\n",
      "+----------+----------------+-------------+-----+--------------------+\n",
      "only showing top 20 rows\n",
      "\n"
     ]
    }
   ],
   "source": [
    "final_df.withColumn('prob',final_df['count']/final_df['first_word_count']).sort('words_pair').show(20)"
   ]
  },
  {
   "cell_type": "code",
   "execution_count": 143,
   "metadata": {
    "ExecuteTime": {
     "end_time": "2020-02-27T17:37:29.598063Z",
     "start_time": "2020-02-27T17:37:28.885667Z"
    }
   },
   "outputs": [],
   "source": [
    "spark.stop()"
   ]
  },
  {
   "cell_type": "code",
   "execution_count": null,
   "metadata": {},
   "outputs": [],
   "source": []
  }
 ],
 "metadata": {
  "kernelspec": {
   "display_name": "Python 3",
   "language": "python",
   "name": "python3"
  },
  "language_info": {
   "codemirror_mode": {
    "name": "ipython",
    "version": 3
   },
   "file_extension": ".py",
   "mimetype": "text/x-python",
   "name": "python",
   "nbconvert_exporter": "python",
   "pygments_lexer": "ipython3",
   "version": "3.7.6"
  },
  "toc": {
   "base_numbering": 1,
   "nav_menu": {},
   "number_sections": true,
   "sideBar": true,
   "skip_h1_title": false,
   "title_cell": "Table of Contents",
   "title_sidebar": "Contents",
   "toc_cell": false,
   "toc_position": {},
   "toc_section_display": true,
   "toc_window_display": false
  }
 },
 "nbformat": 4,
 "nbformat_minor": 4
}
